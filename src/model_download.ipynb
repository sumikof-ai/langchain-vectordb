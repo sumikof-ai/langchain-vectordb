{
 "cells": [
  {
   "cell_type": "code",
   "execution_count": null,
   "metadata": {},
   "outputs": [],
   "source": [
    "from huggingface_hub import snapshot_download\n",
    "\n",
    "model_name = \"cl-nagoya/ruri-large\"\n",
    "download_path = snapshot_download(\n",
    "    repo_id=model_name,\n",
    "    local_dir = f\"embedding_model/{model_name}\",\n",
    "    local_dir_use_symlinks=False # ※1\n",
    "    )"
   ]
  }
 ],
 "metadata": {
  "language_info": {
   "name": "python"
  }
 },
 "nbformat": 4,
 "nbformat_minor": 2
}
